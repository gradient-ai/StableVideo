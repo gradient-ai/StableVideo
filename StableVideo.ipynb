{
 "cells": [
  {
   "cell_type": "markdown",
   "metadata": {},
   "source": [
    "# Setup\n",
    "\n",
    "Run this code cell to install all the needed packages and retrieve the model files we need to run this code demo. \n",
    "### Specifics\n",
    "We need to be sure we have installed version `1.5.0` of `pytorch-lightning`, specifically. Otherwise, the versions should not conflict\n",
    "\n",
    "### Model downloads\n",
    "\n",
    "We need to download the specific controlnet models we will need for this task, as the app start up script does not come with them prepared. \n",
    "\n",
    "Specifically they use:\n",
    "- Canny\n",
    "- Depth \n"
   ]
  },
  {
   "cell_type": "code",
   "execution_count": null,
   "metadata": {},
   "outputs": [],
   "source": [
    "!pip install einops omegaconf gradio timm open_clip_torch basicsr imageio[ffmpeg] imageio[pyav]\n",
    "!pip install pytorch_lightning==1.5.0 \n",
    "!wget -O ckpt/control_sd15_depth.pth https://huggingface.co/lllyasviel/ControlNet/resolve/main/models/control_sd15_depth.pth\n",
    "!wget -O ckpt/control_sd15_canny.pth https://huggingface.co/lllyasviel/ControlNet/resolve/main/models/control_sd15_canny.pth\n",
    "!wget https://www.dropbox.com/s/oiyhbiqdws2p6r1/nla_share.zip\n",
    "!unzip nla_share.zip"
   ]
  },
  {
   "cell_type": "markdown",
   "metadata": {},
   "source": [
    "## Run app\n"
   ]
  },
  {
   "cell_type": "code",
   "execution_count": null,
   "metadata": {},
   "outputs": [],
   "source": [
    "!python app.py"
   ]
  }
 ],
 "metadata": {
  "language_info": {
   "name": "python"
  },
  "orig_nbformat": 4
 },
 "nbformat": 4,
 "nbformat_minor": 2
}
